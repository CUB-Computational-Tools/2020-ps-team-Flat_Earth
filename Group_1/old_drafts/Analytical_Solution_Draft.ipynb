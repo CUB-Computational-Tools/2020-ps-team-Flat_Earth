{
 "cells": [
  {
   "cell_type": "markdown",
   "metadata": {},
   "source": [
    "## Advection - Dispersion Equation\n",
    "\n",
    "The concentration, __C__, at some distance, __L__, from a constant source of contamination at concentration __C<sub>o</sub>__, at time, __t__, is given by the following expression (Ogata 1970), where __erfc__ is the _complemetary error function_:\n",
    "\n",
    "$$C = \\frac{C_o}{2}\\left[ erfc (\\frac{L-vt}{2\\sqrt{Dt}}) + exp(\\frac{vL}{D})erfc(\\frac{L+vt}{2\\sqrt{Dt}})\\right]$$\n"
   ]
  },
  {
   "cell_type": "markdown",
   "metadata": {},
   "source": [
    "Where:\n",
    "> __C__ is the solute concentration (M/L<sup>3</sup>) usually in mg/L\n",
    " \n",
    "> __C<sub>o</sub>__ is the initial solute concentration (M/L<sup>3</sup>) usually in mg/L\n",
    "\n",
    "> __L__ is the flow path length (L), usually in meters\n",
    "    \n",
    "> __v__ is the average linear groundwater velocity (L T<sup>-1</sup>): usually in meters/day\n",
    "    \n",
    "> __D__ is the longitudinal dispersion coefficient (L<sup>2</sup> T<sup>-1</sup>): usually in m<sup>2</sup>/second "
   ]
  },
  {
   "cell_type": "code",
   "execution_count": null,
   "metadata": {},
   "outputs": [],
   "source": [
    "#Analytical Solution for Solute Transport Problem\n",
    "import numpy as np\n",
    "from scipy import special as sp\n",
    "import math\n",
    "import matplotlib.pyplot as plt\n",
    "plt.style.use('seaborn-whitegrid')\n",
    "print(\"Ready for Dispersion!\")"
   ]
  },
  {
   "cell_type": "markdown",
   "metadata": {},
   "source": [
    "## Example Problem\n",
    "\n",
    "#### A [Landfill](https://www.researchgate.net/figure/Schematic-diagram-of-groundwater-contamination-by-landfill-leachate_fig1_261288075) is leaking leachate with a chloride concentration of 725 mg/L.\n",
    "\n",
    "#### Below is the information given:\n",
    "\n",
    "> __C__ is the solute concentration (M/L<sup>3</sup>): __UNKNOWN mg/L__\n",
    " \n",
    "> __C<sub>o</sub>__ is the initial solute concentration: (M/L<sup>3</sup>) __725 mg/L__\n",
    "\n",
    "> __L__ is the flow path length (L): __15 meters__\n",
    "    \n",
    "> __v__ is the average linear groundwater velocity (L T<sup>-1</sup>): __0.022 meters/day__\n",
    "    \n",
    "> __D__ is the longitudinal dispersion coefficient (L<sup>2</sup> T<sup>-1</sup>): __0.028 m<sup>2</sup>/day__\n",
    "\n",
    "#### After 365 days, at what approximate distance is the solute peak from the source?"
   ]
  },
  {
   "cell_type": "code",
   "execution_count": null,
   "metadata": {},
   "outputs": [],
   "source": [
    "def solute_pulse(): \n",
    "    Co = 725 # initial solute concentration in milligrams \n",
    "    Days = 365 # Time since start\n",
    "    D = 0.028 # Dispersion Coefficient\n",
    "    v = 0.022 # Average linear groundwater velocity\n",
    "    n = 50\n",
    "    sqrtPi = np.sqrt(np.pi)\n",
    "    Di = np.zeros(n) # Distance away from source in meters\n",
    "    conc = np.zeros(n)\n",
    "    \n",
    "    for i in range(n):\n",
    "        Di[i] = i\n",
    "    \n",
    "    plt.ion()\n",
    "    conc[0] = 0.0\n",
    "    \n",
    "    for t in range(1, Days):\n",
    "        for i in range(1, n):\n",
    "            a = v / (sqrtPi*np.sqrt(D*t)) * np.exp(-((Di[i] - v*t)**2) / (4.0*D*t))\n",
    "            b = (v**2)/(2*D) * np.exp((v*Di[i])/D) * sp.erfc((Di[i]+v*t) / np.sqrt(4.0*D*t))\n",
    "            conc[i]= (Co / 2) * (a - b)\n",
    "            \n",
    "            ###################\n",
    "            # a = math.erfc((L[i] - (v*t)) / (2* (math.sqrt(D*t))))\n",
    "            # b = math.exp((v*L[i])/(D)) * math.erfc((L[i] + (v*t)) / (2*(math.sqrt(D*t))))\n",
    "            # conc[i]= (Cnot/2) * (a+b)\n",
    "            ###################\n",
    "            \n",
    "        plt.clf()\n",
    "        plt.xlabel('Concentration [mg m$^{-2}$]', fontsize=20, labelpad=8)\n",
    "        plt.ylabel('Distance from Source [m]',fontsize=20, labelpad=8)\n",
    "        plt.xlim(0, 1)\n",
    "        plt.plot(conc, -Di)\n",
    "        plt.draw()\n",
    "    \n",
    "    plt.ioff()\n",
    "    plt.show\n",
    "\n",
    "def main():\n",
    "    solute_pulse()\n",
    "main()"
   ]
  },
  {
   "cell_type": "markdown",
   "metadata": {},
   "source": [
    "#### After 365 days, at a distance of 15 m from the source, what is the solute concentration?\n",
    "\n",
    "Use the equation to solve:\n",
    "\n",
    "$$C = \\frac{C_o}{2}\\left[ erfc (\\frac{L-vt}{2\\sqrt{Dt}}) + exp(\\frac{vL}{D})erfc(\\frac{L+vt}{2\\sqrt{Dt}})\\right]$$"
   ]
  },
  {
   "cell_type": "code",
   "execution_count": null,
   "metadata": {},
   "outputs": [],
   "source": [
    "#The parameters\n",
    "Co = 725 # initial solute concentration in milligrams \n",
    "t = 365 # Time since start\n",
    "D = 0.0275 # Dispersion Coefficient\n",
    "v = 0.0224 # Average linear groundwater velocity\n",
    "Di = 15 # Distance away from source in meters     \n",
    "\n",
    "def part1(Co, t, D, v, Di):\n",
    "  return(math.erfc((Di - (v*t)) / (2* (math.sqrt(D*t)))))\n",
    "part1(Co = 725, t = 365, D = 0.0275, v = 0.0224, Di = 15) # passed by explicit name"
   ]
  },
  {
   "cell_type": "code",
   "execution_count": null,
   "metadata": {},
   "outputs": [],
   "source": [
    "def part2(Co, t, D, v, Di):\n",
    "  return(math.exp((v*Di)/(D)) * math.erfc((Di + (v*t)) / (2*(math.sqrt(D*t)))))\n",
    "part2(Co = 725, t = 365, D = 0.0275, v = 0.0224, Di = 15)"
   ]
  },
  {
   "cell_type": "code",
   "execution_count": null,
   "metadata": {},
   "outputs": [],
   "source": [
    "def part1and2(Co, t, D, v, Di):\n",
    "  return((Co/2)*(math.erfc((Di-(v*t))/(2*(math.sqrt(D*t)))))+math.exp((v*Di)/(D))*math.erfc((Di + (v*t))/(2*(math.sqrt(D*t)))))\n",
    "part3(Co = 725, t = 365, D = 0.0275, v = 0.0224, Di = 15) # passed by explicit name"
   ]
  },
  {
   "cell_type": "markdown",
   "metadata": {},
   "source": [
    "### You Try!\n",
    "A saline solution with a concentration of __1823 mg/L__, is introduced into a __2 m__ long sand column. The pores are initially filled with distilled water.\n",
    "\n",
    "The solution drains through the column at an average linear velocity of __1.43 m/d__ and the dynamic dispersivity is __0.25585 m<sup>2</sup> d<sup>-1</sup>__,\n",
    "\n",
    "What would the concentration of the effluent be __0.70 day__ after flow begins?"
   ]
  },
  {
   "cell_type": "code",
   "execution_count": null,
   "metadata": {},
   "outputs": [],
   "source": [
    "def sol_conc(Co, t, D, v, Di):\n",
    "  return((Co/2)*(math.erfc((Di-(v*t))/(2*(math.sqrt(D*t)))))+math.exp((v*Di)/(D))*math.erfc((Di + (v*t))/(2*(math.sqrt(D*t)))))\n",
    "part3(Co = , t = , D = , v = , Di = ) # Insert the values here"
   ]
  },
  {
   "cell_type": "code",
   "execution_count": null,
   "metadata": {},
   "outputs": [],
   "source": [
    "The concentration of the effluent would be what after 0.70 days?"
   ]
  },
  {
   "cell_type": "code",
   "execution_count": null,
   "metadata": {},
   "outputs": [],
   "source": []
  }
 ],
 "metadata": {
  "kernelspec": {
   "display_name": "Python 3",
   "language": "python",
   "name": "python3"
  },
  "language_info": {
   "codemirror_mode": {
    "name": "ipython",
    "version": 3
   },
   "file_extension": ".py",
   "mimetype": "text/x-python",
   "name": "python",
   "nbconvert_exporter": "python",
   "pygments_lexer": "ipython3",
   "version": "3.7.6"
  }
 },
 "nbformat": 4,
 "nbformat_minor": 4
}
