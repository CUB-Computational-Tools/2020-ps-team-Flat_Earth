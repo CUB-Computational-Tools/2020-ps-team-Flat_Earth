{
 "cells": [
  {
   "cell_type": "markdown",
   "metadata": {},
   "source": [
    "> ## *THIS IS THE ANSWER KEY*"
   ]
  },
  {
   "cell_type": "markdown",
   "metadata": {},
   "source": [
    "# Using Python Jupyter Notebooks in Hydrogeology \n",
    "### For: Introduction to Hydrogeology (GEOL 3030)\n",
    "#### Authors: Claudia Corona and William Bennett, Fall 2020"
   ]
  },
  {
   "cell_type": "markdown",
   "metadata": {},
   "source": [
    "## Learning Goals:\n",
    "\n",
    "1. Know how to navigate a Jupyter notebook.\n",
    "2. Refresher on the mass transport of solutes (see Fetter, Ch.10, p. 400 - 425).\n",
    "3. Practice using python as a calculator to solve problems regarding the mass transport of solutes in groundwater.\n",
    "4. Practice using python `functions` to solve problems regarding the mass transport of solutes in groundwater.\n",
    "\n",
    "### Prequisites:\n",
    "\n",
    "Before doing this exercise, you should know/review:\n",
    "\n",
    "Basic Hydrology:\n",
    "- The difference between the unsaturated (vadose) zone and saturated zone.\n",
    "- Familiarity with the mass transport of solutes and groundwater contamination.\n",
    "\n",
    "Other (_Recommended_ but not _needed_):\n",
    "- Introduction to Python Coding (free!) via Udacity: https://www.udacity.com/course/introduction-to-python--ud1110"
   ]
  },
  {
   "cell_type": "markdown",
   "metadata": {},
   "source": [
    "\n",
    "## Double Click in this box to view the code\n",
    "\n",
    "This box is just text, and some hashtags, here and there. This is a simple language called **markdown.**\n",
    "\n",
    "> Look toward the top of the page at the tool bar-- you'll see a few buttons (Save, Insert Cell, Run, Etc.) and to the right, there is a drop down bar with the words \"Markdown\".\n",
    "> If you click on the drop down bar, you can see some other options - for this class, we will only be using the **\"Markdown\" and \"Code\"** options.\n",
    "> The \"Code\" option will be selected for cells that use Python code.\n",
    "\n",
    "> This box is called a **Cell**. Think of it as a snippit of code that can run on its own.\n",
    "> To run a cell, you can press __(CTRL + Enter)__ for Windows.\n",
    "> Alternatively, you can press __(Shift + Enter)__ for Windows, and this runs the cell, AND moves you to the cell below.\n",
    "\n",
    "Try it, press __(CTRL+Enter)__ and then come back, and press __(Shift+Enter)__\n",
    "\n",
    "> IF you accidentally double-click a cell and it looks different - don't worry, you're in a markdown cell and you just need to **run** the cell.\n"
   ]
  },
  {
   "cell_type": "markdown",
   "metadata": {},
   "source": [
    "# How Solutes are Transported in the Saturated Zone\n",
    "\n",
    "Let's say we can have X-Ray vision and can see through the ground. \n",
    "\n",
    "- Beneath our feet we see: the unsaturated zone, then the water table, and finally the saturated zone. \n",
    "- Our concern is how sources of contamination, \"solutes\" are transported in the saturated zone with groundwater.\n",
    "- The contamination from the source will spread through a process of **Hydrodynamic Dispersion.**\n",
    "\n",
    "# Advection\n",
    "\n",
    "A simple definition for advection is that it is the physical transport of a substance or quantity by bulk motion.\n",
    "\n",
    "\\begin{equation*}\n",
    "v_x = -\\frac{K}{n_e} * \\frac{dh}{dl}           \n",
    "\\end{equation*}\n",
    "\n",
    "where:\n",
    "\n",
    "\\begin{equation*}\n",
    "v_x = \\textrm{average linear ground-water velocity} \\\\\n",
    "\\end{equation*}\n",
    "\\begin{equation*}\n",
    "K = \\textrm{hydraulic conductivity} \\\\\n",
    "\\end{equation*}\n",
    "\\begin{equation*}\n",
    "n_e = \\textrm{effective porosity} \\\\\n",
    "\\end{equation*}\n",
    "\\begin{equation*}\n",
    "\\frac{dh}{dl} = \\textrm{hydraulic gradient} \n",
    "\\end{equation*}\n",
    "\n",
    "- Put simply, **advection is the movement of the groundwater through the soil**. Now were going to talk about how the **contaminant moves through the water**.\n",
    "\n",
    "- When talking about __hydrodynamic dispersion__, we must consider: \n",
    "> 1. **Molecular Diffusion** \n",
    "> 2. **Mechanical Dispersion** \n",
    "\n",
    "- We consider these two processes to obtain the hydrodynamic dispersion.\n",
    "\n",
    "\n",
    "# Molecular Diffusion\n",
    "\n",
    "When we have a container that starts with a concentration of a solute in one area, over time, that solute becomes evenly distributed in the container due to random molecular motion. The molecules go from higher concentration to lower concentration.\n",
    "\n",
    "![alt text](MolecularDiffusion.png)\n",
    "\n",
    "So that same kinda phenomenon is happening in the water/soil itself. The contaminant (solute) is going to be spreading itself among the solvent (water) to be more equally distributed in the water.\n",
    "\n",
    "\n",
    "\n",
    "# Mechanical Dispersion\n",
    "\n",
    "Mechanical dispersion is a phenomenon of groundwater moving through a porous medium, with the water travelling at different velocities at different points. The different velocities of water cause mixing. This is due to:\n",
    "\n",
    "> #### 1) Fluid traveling faster through larger pores than through smaller pores.\n",
    "\n",
    "> #### 2) Fluid traveling through shorter pathways and/or splitting or branching to the sides.\n",
    "\n",
    "> #### 3) Fluids moving faster through the center of the pores than along the edges. \n",
    "\n",
    "![alt text](MechanicalDispersion1.jpg)\n",
    "\n",
    "\n",
    "# Hydrodynamic Dispersion\n",
    "\n",
    "Together (mechanical dispersion, and molecular diffusion) are difficult to distinguish when looking at real world data, so instead we represent these phenomenon mathematically with the **Coefficient of Hydrodynamic Disperion**, or $D_L$.\n",
    "\n",
    "\\begin{equation*}\n",
    "D_L = a_L v_x + D^*\n",
    "\\end{equation*}\n",
    "\n",
    "Where:\n",
    "\n",
    "\\begin{equation*}\n",
    "D_L = \\textrm{longitudinal coefficient of hydrodynamic dispersion} \\\\\n",
    "\\end{equation*}\n",
    "\\begin{equation*}\n",
    "a_L = \\textrm{dynamic dispersivity} \\\\\n",
    "\\end{equation*}\n",
    "\\begin{equation*}\n",
    "v_x = \\textrm{average linear ground-water velocity} \\\\\n",
    "\\end{equation*}\n",
    "\\begin{equation*}\n",
    "D^* = \\textrm{effective molecular diffusion coefficient} \n",
    "\\end{equation*}\n",
    "\n",
    "Sometimes, in a problem we not given the dynamic dispersivity constant ($a_L$) directly, and so we need to calculate it with the following equation:\n",
    "\n",
    "\\begin{equation*}\n",
    "a_L = 0.83(log L)^{2.414}\n",
    "\\end{equation*}\n",
    "\n",
    "where: \n",
    "\n",
    "\\begin{equation*}\n",
    "L = \\textrm{length of flow path (m)} \n",
    "\\end{equation*}\n",
    "\n",
    "\n",
    "\n",
    "# Determining Concentration of Contaminant from a Constant Source.\n",
    "\n",
    "\n",
    "A common hydrogeology problem we come across is that we (a) KNOW the initial concentration of a contaminant and (b) the contaminant is a  constant source. With information like this, we are typically asked to find the contaminant concentration some x distance away, at some time.\n",
    "\n",
    "\n",
    "#### The equation we use is:\n",
    "\n",
    "$$C = \\frac{C_o}{2}\\left[ erfc (\\frac{L-vt}{2\\sqrt{Dt}}) + exp(\\frac{vL}{D})erfc(\\frac{L+vt}{2\\sqrt{Dt}})\\right]$$\n",
    "\n",
    "where __erfc__ is the complementary error function:\n",
    "\n",
    "#### To solve this equation, we need:\n",
    "\n",
    "\\begin{equation*}\n",
    "C = \\textrm{Solute Concentration }(mg/L) \\\\\n",
    "\\end{equation*}\n",
    "\\begin{equation*}\n",
    "C_0 = \\textrm{initial solute concentration }(mg/L) \\\\\n",
    "\\end{equation*}\n",
    "\\begin{equation*}\n",
    "L = \\textrm{flow path length }(m) \\\\\n",
    "\\end{equation*}\n",
    "\\begin{equation*}\n",
    "v_x = \\textrm{average linear ground-water velocity }(m/day) \\\\\n",
    "\\end{equation*}\n",
    "\\begin{equation*}\n",
    "t = \\textrm{time since release of solute }(day)\\\\ \n",
    "\\end{equation*}\n",
    "\\begin{equation*}\n",
    "D_L = \\textrm{longitudinal coefficient of hydrodynamic dispersion }(m^2/s) \n",
    "\\end{equation*}\n",
    "\n"
   ]
  },
  {
   "cell_type": "code",
   "execution_count": 68,
   "metadata": {},
   "outputs": [
    {
     "name": "stdout",
     "output_type": "stream",
     "text": [
      "Ready for Dispersion!\n"
     ]
    }
   ],
   "source": [
    "## Now go ahead and click here and take a look at the top in the drop down menu. We are in the \"code\" setting now.\n",
    "## Every text written here is being interpretted as code - but the hashtags at the start of the line tell the computer\n",
    "## to ignore this and just interpret it as text. There's other ways to use hashtags more efficiently, but for now, just know that\n",
    "## the hashtags basically just turn the code into pure text.\n",
    "\n",
    "## The first thing we're going to do is import libararies. Libraries are basically collections of functions\n",
    "## and information that's needed to do the things we want for the specific task at hand. For example, the math library allows \n",
    "## us to use exponential and square root calculations, while matplotlib.pyplot allows us to make graphs easily.\n",
    "\n",
    "## Go ahead and run this cell by pressing (shift + enter) or (control + enter). [or whatever the equivalent is for you dirty mac and linus users)]\n",
    "\n",
    "## You might notice the In[] text at the top left of the cell. This basically just tells you how many cells the kernal has run\n",
    "## Every time you run a new cell, this number goes up. To restart the kernal, go towards the top of the page, click on the \"kernal\"\n",
    "## button, and click \"restart and clear output\". If the In[*] text has an asteric like that, it means it is currently running.\n",
    "## Sometimes, if your code is taking FOREVER, you may need to adjust the code because there's an infinite loop somewhere.\n",
    "## To exit an infinite loop, restart the kernal.\n",
    "\n",
    "import numpy as np\n",
    "from scipy import special as sp\n",
    "import math\n",
    "import matplotlib.pyplot as plt\n",
    "plt.style.use('seaborn-whitegrid')\n",
    "\n",
    "print(\"Ready for Dispersion!\")  ##The purpose of this print function is to notify you that everything imported OK. \n",
    "\n",
    "#If you see \"Ready for Dispersion\", you're on your way!"
   ]
  },
  {
   "cell_type": "markdown",
   "metadata": {},
   "source": [
    "__Below, we will use Python to solve a few problems regarding mass transport of solutes.__\n",
    "\n",
    "# TAKE A DEEP BREATH NOW, HERE WE GO! #"
   ]
  },
  {
   "cell_type": "markdown",
   "metadata": {},
   "source": [
    "We will dive into python with an example problem. Don't worry, just follow along for right now.\n",
    "\n",
    "## Example Problem\n",
    "\n",
    "![alt text](landfill.PNG)\n",
    "\n",
    "#### Let's consider a landfill that is leaking leachate with a chloride concentration of 725 mg/L. \n",
    "#### This leachate enters an aquifer with the following properties:"
   ]
  },
  {
   "cell_type": "markdown",
   "metadata": {},
   "source": [
    "\\begin{equation*}\n",
    "\\textrm{Hydraulic conductivity (K)} = 3.0 \\times 10^{-5}(m / s) \\\\\n",
    "\\end{equation*}\n",
    "\\begin{equation*}\n",
    "\\textrm{Hydaulic Gradient (dh/dl)} = 0.0020 \\\\\n",
    "\\end{equation*}\n",
    "\\begin{equation*}\n",
    "\\textrm{Effective porosity }(n_e) = 0.23 \\\\\n",
    "\\end{equation*}\n",
    "\\begin{equation*}\n",
    "\\textrm{Effective Molectular Diffusion Constant }(D^*) = 1 \\times 10^{-9} (m^2 / s) \n",
    "\\end{equation*}"
   ]
  },
  {
   "cell_type": "markdown",
   "metadata": {},
   "source": [
    "#### We want to know the concentration of chloride:\n",
    "> in __1 year__\n",
    "> at a __15 meter__ distance from the point where the leachate entered the groundwater."
   ]
  },
  {
   "cell_type": "code",
   "execution_count": 3,
   "metadata": {
    "scrolled": true
   },
   "outputs": [
    {
     "name": "stdout",
     "output_type": "stream",
     "text": [
      "The first term's value is 1.06.\n",
      "The second term's value is 12.18.\n",
      "The third term's value is 3.65.\n",
      "The concentration is 48.0 mg/L, after 31536000 seconds or 1 year.\n"
     ]
    }
   ],
   "source": [
    "# Let's solve the problem above, by assigning some variables and doing a calculation - plug and chug style!\n",
    "# We need all the variable values from the concentration equation, Co, L, v_x, t , and D_L.\n",
    "# We have Co, L, and t, given in the problem, but we need to calculate v_x and D_L.\n",
    "\n",
    "# This is the exact question from page 406 of your text book (Applied Hydrology, 4th Edition by C.W. Fetter)\n",
    "# Please use it as a resource to assist you with this process.\n",
    "\n",
    "# Let's calculate v_x:\n",
    "# This is how we assign a variable - we just use some letters followed by an equal sign, followed by some value.\n",
    "\n",
    "C0 = 725\n",
    "ne = 0.23\n",
    "K = 3.0E-5  #this E is just 10 to the whatever power, in this case, 3.0 times ten to the negative 5th power.\n",
    "dh_dl = 0.0020\n",
    "d_star = 1.0E-9\n",
    "L = 15\n",
    "\n",
    "#########################################################################################################################\n",
    "\n",
    "v_x = (K*dh_dl)/ne\n",
    "#print(v_x)  ## This prints the answer out that is assigned to v_x, The first line of text after this block of code is\n",
    "            ## the answer and should be about 2.6 x 10^-7 m/s\n",
    "\n",
    "# Let's calculate longitudinal hydrodynamic dispersion now, which is needed for the D_L:\n",
    "\n",
    "a_L = 0.83*((math.log(L,10))**(2.414))\n",
    "\n",
    "#print(a_L) ## This prints out the answer assigned to a_L, the second line of text under this block, and should be about 1.23\n",
    "\n",
    "D_L = a_L * v_x + d_star\n",
    "\n",
    "#print(D_L) ## Again, prints out answer in third line, should be about 3.2E-7 \n",
    "\n",
    "t = 1 *60 * 1440 * 365 ## converting time from one year to 3.15E7 seconds.\n",
    "\n",
    "##########################################################################################################################\n",
    "\n",
    "# So now we've got all the terms calculated, and we just need to plug everything into the long equation with the ERFC \n",
    "# It's on page 404 in the textbook, equation 10.8.\n",
    "\n",
    "#We split the expression up into 3 parts so it's easier to follow along.\n",
    "\n",
    "term1 = (L - v_x*t)/(2*math.sqrt(D_L*t))\n",
    "term2 = (v_x*L)/(D_L)\n",
    "term3 = (L+v_x*t)/(2*math.sqrt(D_L*t))\n",
    "\n",
    "print (\"The first term's value is {:.2f}.\".format(term1))\n",
    "print (\"The second term's value is {:.2f}.\".format(term2))\n",
    "print (\"The third term's value is {:.2f}.\".format(term3)) ## this term is about 3.6, and since complimentary error functions of numbers greater than 3 are very small, we can ignore the last term. \n",
    "\n",
    "## + math.exp(term2) * math.erfc(term3))  <-- we're ignoring this last term as they did in the book.\n",
    "C = (C0/2) * (math.erfc(term1)) \n",
    "\n",
    "##You should see we get an answer of ~48 mg/L. This is due to rounding errors from the calculations.\n",
    "print (\"The concentration is {:.1f} mg/L, after {:.0f} seconds or 1 year.\".format(C,t)) "
   ]
  },
  {
   "cell_type": "markdown",
   "metadata": {},
   "source": [
    "# Question 1 (Python as a calculator) \n",
    "\n",
    "A saline solution with a concentration of __1823 mg/L__ is introduced into a __2 meter__ -long sand column in which the pores are initially filled with distilled water. If the solution drains through the columnn at an average linear velocity of __1.43 m/day__ and the dynamic dispersivity of the sand column is __15 cm__, \n",
    "\n",
    "What would the concentration of the efflulent be __0.7 days__ after flow begins?\n",
    "\n",
    "Use the code above to calculate the answer to the question."
   ]
  },
  {
   "cell_type": "code",
   "execution_count": 4,
   "metadata": {},
   "outputs": [
    {
     "name": "stdout",
     "output_type": "stream",
     "text": [
      "The first term's value is 1.29.\n",
      "The second term's value is 13.33.\n",
      "The third term's value is 3.87.\n",
      "62.28468627965692\n",
      "The concentration is 62.28, after 60480 seconds\n"
     ]
    }
   ],
   "source": [
    "C0 = 1823\n",
    "#ne = 0.23  ##anything hashed out is not needed because we are already given dynamic dispersivity and average linear velocity\n",
    "#K = 3.0E-5  \n",
    "#dh_dl = 0.0020\n",
    "d_star = 5.0E-9\n",
    "L = 2\n",
    "v_x = 1.43 / 86400  # to get in meters per second\n",
    "a_L = 0.15 \n",
    "D_L = a_L*v_x # + d_star / can ignore, because v_x is so large\n",
    "t = 1 *60 * 1440 * 0.7\n",
    "\n",
    "term1 = (L - v_x*t)/(2*math.sqrt(D_L*t))\n",
    "term2 = (v_x*L)/(D_L)\n",
    "term3 = (L+v_x*t)/(2*math.sqrt(D_L*t))\n",
    "\n",
    "print (\"The first term's value is {:.2f}.\".format(term1))\n",
    "print (\"The second term's value is {:.2f}.\".format(term2))\n",
    "print (\"The third term's value is {:.2f}.\".format(term3))\n",
    "    \n",
    "\n",
    "C = (C0/2) * (math.erfc(term1)) + (math.exp(term2) * math.erfc(term3))\n",
    "print(C)\n",
    "print (\"The concentration is {:.2f}, after {:.0f} seconds\".format(C,t))"
   ]
  },
  {
   "cell_type": "markdown",
   "metadata": {},
   "source": [
    "# Functions:\n",
    "\n",
    "So far, we've basically just used python as a glorified calculator.... not really using it to its full potential.\n",
    "Now we're going to take the code that we used for the last question, and we're going to turn it into a **function**.\n",
    "\n",
    "Basically, a function is reusable code that is deisgned to perform a single, related action. Functions let us do TONS of things, but for this lesson, we're going to make a function that solves for the concentration of a contaminent at some distance after some time.\n",
    "\n",
    "![alt text](function_machine.png)\n",
    "\n",
    "For the purposes of this session, we're not going to go into too much detail regarding the specifics of how to create a function, we're just going to go over the main components and how to use it. You just need to know \n",
    "\n",
    "Let's consider a simple function - one that calculates the volume of a cylinder.\n"
   ]
  },
  {
   "cell_type": "code",
   "execution_count": 9,
   "metadata": {},
   "outputs": [
    {
     "name": "stdout",
     "output_type": "stream",
     "text": [
      "37.699079999999995\n"
     ]
    }
   ],
   "source": [
    "def cylinder_volume(height=3, radius=2):   # This is the function header - always end with a colon\n",
    "    pi = 3.14159                           # This line is the start of the function body, it defines a variable - notice the indent\n",
    "    return height * pi * radius ** 2       # This line is the end of the function body, and is the return statement.\n",
    "print(cylinder_volume())"
   ]
  },
  {
   "cell_type": "markdown",
   "metadata": {},
   "source": [
    "Let's start with the function header, which is the first line of a function definition.\n",
    "\n",
    "\n",
    "The **function header** always starts with the def keyword, which indicates that this is a function definition.\n",
    "Then comes the function name (here, cylinder_volume), which follows the same naming conventions as variables. You can revisit the naming conventions below.\n",
    "Immediately after the name are parentheses that may include **arguments** separated by commas (here, height and radius). **Arguments, or parameters, are values that are passed in as inputs when the function is called, and are used in the function body.** If a function doesn't take arguments, these parentheses are left empty.\n",
    "The header always end with a colon :.\n",
    "\n",
    "The **body of a function is the code indented after the header line**. Here, it's the two lines that define pi and return the volume.\n",
    "Within this body, we can refer to the argument variables and define new variables, which can only be used within these indented lines.\n",
    "The body will often include a **return statement**, which is used to send back an output value from the function to the statement that called the function. A return statement consists of the return keyword followed by an expression that is evaluated to get the output value for the function. If there is no return statement, the function simply returns None.\n",
    "\n",
    "\n",
    "[CHECK THIS OUT,](https://classroom.udacity.com/courses/ud1110/lessons/49912e64-4fe1-4f06-8679-d17d4ad33969/concepts/97c1d194-e640-4dda-b7c8-770db5a4cb0f) <- this is a nice free resource for any basic programming/function questions you may have."
   ]
  },
  {
   "cell_type": "markdown",
   "metadata": {},
   "source": [
    "# Question 1, Again! (This time, with Python `functions`)\n",
    "\n",
    "Let's solve #Q1 with the `function` defined below by setting the `arguments`. We'll work through this one together.\n"
   ]
  },
  {
   "cell_type": "code",
   "execution_count": 71,
   "metadata": {
    "scrolled": true
   },
   "outputs": [
    {
     "name": "stdout",
     "output_type": "stream",
     "text": [
      "The first term's value is 1.29.\n",
      "The second term's value is 13.33.\n",
      "The third term's value is 3.87.\n",
      "The final concentration is 62.26 mg/L.\n"
     ]
    }
   ],
   "source": [
    "def Concen_cal(C0=1823,L=2,t=60480,vx = 0.00001655, aL=0.15):\n",
    "\n",
    "    \"\"\"\n",
    "##################################\n",
    "    Coefficient      #  units\n",
    "##################################\n",
    "               \n",
    "    C0               # mg/L\n",
    "    ne               # unitless\n",
    "    k                # m/s\n",
    "    dh_dl            # unitless\n",
    "    d_star           # m^2/s\n",
    "    L                # meters\n",
    "    t                # seconds\n",
    "    vx               # m/s\n",
    "    \"\"\"\n",
    "    \n",
    "    DL = aL * vx # + d_star we can ignore d_star because velocity is so high\n",
    "    \n",
    "    \n",
    "    term1 = (L - vx*t)/(2*math.sqrt(DL*t))\n",
    "    term2 = (vx*L)/(DL)\n",
    "    term3 = (L+vx*t)/(2*math.sqrt(DL*t))\n",
    "   \n",
    "    C = (C0/2) * math.erfc(term1) + math.exp(term2) * math.erfc(term3)\n",
    "    \n",
    "    print (\"The first term's value is {:.2f}.\".format(term1))\n",
    "    print (\"The second term's value is {:.2f}.\".format(term2))\n",
    "    print (\"The third term's value is {:.2f}.\".format(term3))\n",
    "   \n",
    "    return C\n",
    "\n",
    "print (\"The final concentration is {:.2f} mg/L.\".format(Concen_cal()))\n"
   ]
  },
  {
   "cell_type": "markdown",
   "metadata": {},
   "source": [
    "# Question 2 (Same code as Q1, with different parameters)\n",
    "\n",
    "A saline solution with a concentration of __1823 mg/L__ is introduced into a sand column that is __2 meter__ long, where the pores are initially filled with distilled water. The solution drains through the columnn at an average linear velocity of __1.43 m/day__ and the dynamic dispersivity of the sand column is __15 cm__.\n",
    "\n",
    "What would the concentration of the effluent be __1.1 days__ after flow begins? \n",
    "\n",
    "- *Use the function above to answer the question*\n",
    "- __REMEMBER__: Convert the days to seconds\n",
    "- __HINT__: After 1.1 days, the concentration should be HIGHER."
   ]
  },
  {
   "cell_type": "code",
   "execution_count": 73,
   "metadata": {},
   "outputs": [
    {
     "name": "stdout",
     "output_type": "stream",
     "text": [
      "The first term's value is 0.44.\n",
      "The second term's value is 13.33.\n",
      "The third term's value is 3.68.\n",
      "The final concentration is 486.97 mg/L.\n"
     ]
    }
   ],
   "source": [
    "def Concen_cal(C0=1823,L=2,t=95040,vx = 0.00001655, aL=0.15):\n",
    "\n",
    "    \"\"\"\n",
    "##################################\n",
    "    Coefficient      #  units\n",
    "##################################\n",
    "               \n",
    "    C0               # mg/L\n",
    "    ne               # unitless\n",
    "    k                # m/s\n",
    "    dh_dl            # unitless\n",
    "    d_star           # m^2/s\n",
    "    L                # meters\n",
    "    t                # seconds, YOU HAVE TO CONVERT DAYS TO SECONDS\n",
    "    vx               # m/s\n",
    "    \"\"\"\n",
    "    \n",
    "    DL = aL * vx # + d_star we can ignore d_star because velocity is so high\n",
    "    \n",
    "    \n",
    "    term1 = (L - vx*t)/(2*math.sqrt(DL*t))\n",
    "    term2 = (vx*L)/(DL)\n",
    "    term3 = (L+vx*t)/(2*math.sqrt(DL*t))\n",
    "   \n",
    "    C = (C0/2) * math.erfc(term1) + math.exp(term2) * math.erfc(term3)\n",
    "    \n",
    "    print (\"The first term's value is {:.2f}.\".format(term1))\n",
    "    print (\"The second term's value is {:.2f}.\".format(term2))\n",
    "    print (\"The third term's value is {:.2f}.\".format(term3))\n",
    "   \n",
    "    return C\n",
    "\n",
    "print (\"The final concentration is {:.2f} mg/L.\".format(Concen_cal()))\n"
   ]
  },
  {
   "cell_type": "markdown",
   "metadata": {},
   "source": [
    "# Question 3 (Same code, now a landfill problem)\n",
    "\n",
    "![alt text](landfill.PNG)\n",
    "\n",
    "A landfill is leaking an effluent with a chloride concentration of __1250 mg/L__. It seeeps into an aquifer with a hydraulic conductivity of __9.8 m/day__, a gradient of 0.0040, and an effective porosity of __0.15__. A down-gradient monitoring well is located __25 m__ from the landfill. What would the chloride concentration be at this well, __300 days__ after the leak begins?"
   ]
  },
  {
   "cell_type": "code",
   "execution_count": 45,
   "metadata": {},
   "outputs": [
    {
     "name": "stdout",
     "output_type": "stream",
     "text": [
      "The first term's value is 0.81.\n",
      "The second term's value is 65.33.\n",
      "The third term's value is 8.12.\n"
     ]
    },
    {
     "data": {
      "text/plain": [
       "158.67625508403935"
      ]
     },
     "execution_count": 45,
     "metadata": {},
     "output_type": "execute_result"
    }
   ],
   "source": [
    "Concen_cal(C0=1250,L=9.8,t=2.59E7,vx = 3.1e-7, aL=0.15)\n"
   ]
  },
  {
   "cell_type": "markdown",
   "metadata": {},
   "source": [
    "# Congratulations! You have completed an introduction in using Python!\n",
    "\n",
    "### To recap, you have now:\n",
    "\n",
    "1. Succesfully navigated a Jupyter notebook.\n",
    "2. Undergone a refresher on the mass transport of solutes (see Fetter, Ch.10, p. 400 - 425).\n",
    "3. Practiced using python as a `calculator` to solve problems regarding the mass transport of solutes in groundwater.\n",
    "4. Practiced using python `functions` to solve problems regarding the mass transport of solutes in groundwater.\n",
    "\n",
    "### To end, we want to show you how you can use Python to solve analytical solutions. \n",
    "#### For this next part, all you have to do is read and run the code. Have fun! "
   ]
  },
  {
   "cell_type": "markdown",
   "metadata": {},
   "source": [
    "# Check out this Analytical Solution:"
   ]
  },
  {
   "cell_type": "markdown",
   "metadata": {},
   "source": [
    "For simple conditions, such as steady-state water flow and uniform soil conditions, the advection–dispersion equation can be solved analytically. A detailed description of different analytical solutions is presented by __Jury and Roth (1990)__. The code below solves the analytical solution of the advection–dispersion equation to calculate concentration for a pulse of solute at the inlet. \n",
    "\n",
    "#### How does it work? The code applies a solute with concentration c<sub>0</sub> at time, t = 0 days.\n",
    "- This condition, of a narrow input pulse, is represented mathematically by the Dirac delta function. \n",
    "- The derivation of this function begins with the definition of the Gauss normal distribution."
   ]
  },
  {
   "cell_type": "code",
   "execution_count": 76,
   "metadata": {},
   "outputs": [
    {
     "name": "stdout",
     "output_type": "stream",
     "text": [
      "All set!\n"
     ]
    },
    {
     "data": {
      "image/png": "[encoded data removed]",
      "text/plain": [
       "<Figure size 432x288 with 1 Axes>"
      ]
     },
     "metadata": {},
     "output_type": "display_data"
    }
   ],
   "source": [
    "################# Simply run this code to see a solute peak calculated from a 1D Analytical Solution################# \n",
    "\n",
    "# Analytical Solution for Solute Transport Problem with faster time (because of indentation)\n",
    "# Uses analytical solution from the book Soil Physics with Python, by Bitelli et al. (2015)\n",
    "\n",
    "def solute_pulse(): \n",
    "    Co = 725 # Initial solute concentration in milligrams \n",
    "    Days = 365 # Time since start\n",
    "    D = 0.028 # Longitudinal Coefficient of Hydrodynamic\n",
    "    v = 0.022 # Average Linear Groundwater Velocity\n",
    "    n = 50\n",
    "    sqrtPi = np.sqrt(np.pi)\n",
    "    Di = np.zeros(n) # Vertical distance away from source in meters\n",
    "    conc = np.zeros(n)\n",
    "    \n",
    "    for i in range(n): # This is the start of the 1st `for loop` function\n",
    "        Di[i] = i\n",
    "    \n",
    "    plt.ion()\n",
    "    conc[0] = 0.0\n",
    "    \n",
    "    for t in range(1, Days): # This is the start of the 2nd `for loop` function\n",
    "        \n",
    "        for i in range(1, n): # This is the start of the 3rd `for loop` function\n",
    "            \n",
    "            a = v / (sqrtPi*np.sqrt(D*t)) * np.exp(-((Di[i] - v*t)**2) / (4.0*D*t))\n",
    "            b = (v**2)/(2*D) * np.exp((v*Di[i])/D) * sp.erfc((Di[i]+v*t) / np.sqrt(4.0*D*t))\n",
    "            conc[i]= (Co / 2) * (a - b)\n",
    "    \n",
    "########## Code for Plotting ##########\n",
    "    plt.clf()\n",
    "    plt.xlabel('Concentration [mg m$^{-2}$]', fontsize=20, labelpad=8)\n",
    "    plt.ylabel('Distance from Source [m]',fontsize=20, labelpad=8)\n",
    "    #plt.xlim(0, 2)\n",
    "    plt.plot(conc, -Di)\n",
    "    plt.draw()\n",
    "    \n",
    "    plt.ioff()\n",
    "    plt.show\n",
    "\n",
    "def main():\n",
    "    solute_pulse()\n",
    "main()\n",
    "\n",
    "print(\"All set!\")"
   ]
  },
  {
   "cell_type": "markdown",
   "metadata": {},
   "source": [
    "- The plot above shows the results of the analytical solution.\n",
    "- The solute concentration is plotted as a function of time after 365 days. \n",
    "- As the peak moves downward over time, it becomes more dispersed.\n",
    "\n",
    "### Now you try! Go up to the code and consider changing any of the parameters below.\n",
    "\n",
    "    Co = 725 # Initial solute concentration in milligrams \n",
    "    Days = 365 # Time since start \n",
    "    D = 0.028 # Longitudinal Coefficient of Hydrodynamic Dispersion \n",
    "    v = 0.022 # Average Linear Groundwater Velocity\n",
    "    \n",
    "#### One of the best ways to learn is by tinkering.\n",
    "- So go ahead and change the parameter values! \n",
    "- Doing so will help better understand how the flux moves as a function of time and depth."
   ]
  },
  {
   "cell_type": "markdown",
   "metadata": {},
   "source": [
    "\n",
    "# **EXTRA** \n",
    "### An example of different set of functions that could be used to answer the questions.\n",
    "\n",
    "The purpose of the code below if to show that there are different ways to code to attain the correct answer.\n",
    "\n",
    "#### Let's reconsider Question #1:\n",
    "A saline solution with a concentration of __1823 mg/L__ is introduced into a __2 meter__ long sand column in which the pores are initially filled with distilled water. The solution drains through the columnn at an average linear velocity of __1.43 m/day__ and the dynamic dispersivity of the sand column is __15 cm__.\n",
    "\n",
    "Knowing these parameters, the question is: What would the concentration of the efflulent be __0.7 days__ after flow begins? "
   ]
  },
  {
   "cell_type": "code",
   "execution_count": 80,
   "metadata": {},
   "outputs": [
    {
     "data": {
      "text/plain": [
       "0.12774875825775006"
      ]
     },
     "execution_count": 80,
     "metadata": {},
     "output_type": "execute_result"
    }
   ],
   "source": [
    "# This code can also be used to answer questions # 1 - 3. \n",
    "\n",
    "Co = 725 # initial solute concentration in milligrams \n",
    "t = 365 # Time since start\n",
    "D = 0.0275 # Dispersion Coefficient\n",
    "v = 0.0224 # Average linear groundwater velocity\n",
    "Di = 15 # Distance away from source in meters     \n",
    "\n",
    "def part1(Co, t, D, v, Di):\n",
    "  return(math.erfc((Di - (v*t)) / (2* (math.sqrt(D*t)))))\n",
    "part1(Co = 725, t = 365, D = 0.0275, v = 0.0224, Di = 15) "
   ]
  },
  {
   "cell_type": "code",
   "execution_count": 81,
   "metadata": {},
   "outputs": [
    {
     "data": {
      "text/plain": [
       "0.04672888312009826"
      ]
     },
     "execution_count": 81,
     "metadata": {},
     "output_type": "execute_result"
    }
   ],
   "source": [
    "def part2(Co, t, D, v, Di):\n",
    "  return(math.exp((v*Di)/(D)) * math.erfc((Di + (v*t)) / (2*(math.sqrt(D*t)))))\n",
    "part2(Co = 725, t = 365, D = 0.0275, v = 0.0224, Di = 15)"
   ]
  },
  {
   "cell_type": "code",
   "execution_count": 82,
   "metadata": {},
   "outputs": [
    {
     "data": {
      "text/plain": [
       "46.35565375155449"
      ]
     },
     "execution_count": 82,
     "metadata": {},
     "output_type": "execute_result"
    }
   ],
   "source": [
    "def total_solute_conc(Co, t, D, v, Di):\n",
    "  return((Co/2)*(math.erfc((Di-(v*t))/(2*(math.sqrt(D*t)))))+math.exp((v*Di)/(D))*math.erfc((Di + (v*t))/(2*(math.sqrt(D*t)))))\n",
    "total_solute_conc(Co = 725, t = 365, D = 0.0275, v = 0.0224, Di = 15)"
   ]
  },
  {
   "cell_type": "markdown",
   "metadata": {},
   "source": [
    "#### The concentration of the effluent would be ~46 mg / L after 0.70 days."
   ]
  },
  {
   "cell_type": "markdown",
   "metadata": {},
   "source": [
    "## Sources\n",
    "\n",
    "Text: Fetter, C.W., 2018. *Applied hydrogeology*. Waveland Press.\n",
    "\n",
    "\n",
    "## Images:\n",
    "\n",
    "Molecular Diffusion. 2020. URL: https://chem.libretexts.org/Bookshelves/Physical_and_Theoretical_Chemistry_Textbook_Maps/Book%3A_Mathematical_Methods_in_Chemistry_(Levitus)/12%3A_Partial_Differential_Equations/12.04%3A_Molecular_Diffusion\n",
    "\n",
    "Mechanical Dispersion. 2020. URL:\n",
    "http://hmf.enseeiht.fr/travaux/beiepe/book/export/html/2267\n",
    "\n",
    "Function Machine. 2020 URL:\n",
    "https://mathinsight.org/function_machine\n",
    "\n",
    "Landfill. 2020 URL:\n",
    "http://hydrogeologistswithoutborders.org/wordpress/1979-english/chapter-9/"
   ]
  }
 ],
 "metadata": {
  "kernelspec": {
   "display_name": "Python 3",
   "language": "python",
   "name": "python3"
  },
  "language_info": {
   "codemirror_mode": {
    "name": "ipython",
    "version": 3
   },
   "file_extension": ".py",
   "mimetype": "text/x-python",
   "name": "python",
   "nbconvert_exporter": "python",
   "pygments_lexer": "ipython3",
   "version": "3.8.3"
  }
 },
 "nbformat": 4,
 "nbformat_minor": 4
}
