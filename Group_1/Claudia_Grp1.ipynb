{
 "cells": [
  {
   "cell_type": "markdown",
   "metadata": {},
   "source": [
    "# Welcome to using Python Notebooks for Geology/Hydrology Applications.\n",
    "# Double Click in this box to view the code!\n",
    "\n",
    "\n",
    "As you can see, its super simple - its basically just text, and some hashtags, with a few asterics here and there. This is a super simple language called **markdown.**\n",
    "If you look toward the top of the page at the tool bar, you'll see a few buttons (Save, Insert Cell, Run, Etc.) and to the right, you'll see a drop down bar with the words \"Markdown\".\n",
    "If you click on the drop down bar, you can see some other options - for this class, we will only be using the **\"Markdown\" and \"Code\"** options.\n",
    "The \"Code\" option will be selected for cells that use Python code.\n",
    "\n",
    "This box is called a **Cell** and it's basically a snippit of code that can run on its own.\n",
    "To run a cell, you can press (CNTL+Enter) for Windows.\n",
    "Alternatively, you can press (Shift+Enter) for Windows, and this runs the cell, AND moves you to the cell below.\n",
    "\n",
    "Try it, press (CTRL+Enter) and then come back, and press (Shift+Enter)\n",
    "\n",
    "So when you accidentally double-click a cell and it looks different - don't worry, you're in a markdown cell and you just need to run the cell.\n"
   ]
  },
  {
   "cell_type": "markdown",
   "metadata": {},
   "source": [
    "# How Solutes are Transported in the Saturated Zone\n",
    "\n",
    "So let's say we can have X-Ray vision and can see through the ground. \n",
    "\n",
    "- Beneath our feet we see: the unsaturated zone, then the water table, and finally the saturated zone. \n",
    "- Our concern is how sources of contamination, \"solutes\" are transported in the saturated zone with groundwater.\n",
    "- The contamination from the source will spread through a process of **Hydrodynamic Dispersion.**\n",
    "\n",
    "# Advection\n",
    "\n",
    "A simple definition for advection is that it is the physical transport of a substance or quantity by bulk motion.\n",
    "\n",
    "\\begin{equation*}\n",
    "v_x = -\\frac{K}{n_e} * \\frac{dh}{dl}\n",
    "\\end{equation*}\n",
    "\n",
    "where:\n",
    "\n",
    "\\begin{equation*}\n",
    "v_x = \\textrm{average linear ground-water velocity} \\\\\n",
    "\\end{equation*}\n",
    "\\begin{equation*}\n",
    "K = \\textrm{hydraulic conductivity} \\\\\n",
    "\\end{equation*}\n",
    "\\begin{equation*}\n",
    "n_e = \\textrm{effective porosity} \\\\\n",
    "\\end{equation*}\n",
    "\\begin{equation*}\n",
    "\\frac{dh}{dl} = \\textrm{hydraulic gradient} \n",
    "\\end{equation*}\n",
    "\n",
    "- Put simply, **advection is the movement of the groundwater through the soil**. Now were going to talk about how the **contaminant moves through the water**.\n",
    "\n",
    "When we're talking about hydrodynamic dispersion, we must keep two things in mind: **Molecular Diffusion**, and **Mechanical Dispersion**. We will essentially **combine these two processes to give us hydrodyanmic dispersion.**\n",
    "\n",
    "\n",
    "# Molecular Diffusion\n",
    "\n",
    "When we have a container that starts with a concentration of a solute in one area, over time, that solute becomes evenly distributed in the container due to random molecular motion. The molecules go from higher concentration to lower concentration.\n",
    "\n",
    "![alt text](MolecularDiffusion.png)\n",
    "\n",
    "So that same kinda phenomenon is happening in the water/soil itself. The contaminant (solute) is going to be spreading itself among the solvent (water) to be more equally distributed in the water.\n",
    "\n",
    "\n",
    "\n",
    "# Mechanical Dispersion\n",
    "\n",
    "Mechanical dispersion is a phenomenon of groundwater moving through a porous medium, with the water travelling at different velocities at different points. The different velocities of water cause mixing. This is due to 3 things:\n",
    "\n",
    "#### 1) fluids traveling faster through larger pores than through smaller pores\n",
    "\n",
    "#### 2) fluids traveling shorter pathways and/or splitting or branching to the sides\n",
    "\n",
    "#### 3) fluids moving faster through the center of the pores than along the edges \n",
    "\n",
    "![alt text](MechanicalDispersion1.jpg)\n",
    "\n",
    "\n",
    "# Hydrodynamic Dispersion\n",
    "\n",
    "So these two effects (mechanical dispersion, and molecular diffusion) cannot be practically distinguished between when looking at real world data, so instead we represent these phenomenon mathematically with the **Coefficient of Hydrodynamic Disperion**, or $D_L$.\n",
    "\n",
    "\\begin{equation*}\n",
    "D_L = a_L v_x + D^*\n",
    "\\end{equation*}\n",
    "\n",
    "Where:\n",
    "\n",
    "\\begin{equation*}\n",
    "D_L = \\textrm{longitudinal coefficient of hydrodynamic dispersion} \\\\\n",
    "\\end{equation*}\n",
    "\\begin{equation*}\n",
    "a_L = \\textrm{dynamic dispersivity} \\\\\n",
    "\\end{equation*}\n",
    "\\begin{equation*}\n",
    "v_x = \\textrm{average linear ground-water velocity} \\\\\n",
    "\\end{equation*}\n",
    "\\begin{equation*}\n",
    "D^* = \\textrm{effective molecular diffusion coefficient} \n",
    "\\end{equation*}\n",
    "\n",
    "Sometimes, in a problem we not given the dynamic dispersivity constant ($a_L$) directly, and so we need to calculate it with the following equation:\n",
    "\n",
    "\\begin{equation*}\n",
    "a_L = 0.83(log L)^{2.414}\n",
    "\\end{equation*}\n",
    "\n",
    "where: \n",
    "\n",
    "\\begin{equation*}\n",
    "L = \\textrm{length of flow path (m)} \n",
    "\\end{equation*}\n",
    "\n",
    "\n",
    "\n",
    "\n",
    "# Determining concentration of contaminant from a constant source.\n",
    "\n",
    "\n",
    "A common type of problem asked is when we know the initial concentration of a contaminant, the contaminant is a  constant source, and we are asked to find the contaminant concentration some x distance away, at some time.\n",
    "\n",
    "\n",
    "This is the equation we would use, where erfc is the complementary error function:\n",
    "\n",
    "$$C = \\frac{C_o}{2}\\left[ erfc (\\frac{L-vt}{2\\sqrt{Dt}}) + exp(\\frac{vL}{D})erfc(\\frac{L+vt}{2\\sqrt{Dt}})\\right]$$\n",
    "\n",
    "We will need to find the following:\n",
    "\n",
    "\n",
    "\\begin{equation*}\n",
    "C = \\textrm{Solute Concentration }(mg/L) \\\\\n",
    "\\end{equation*}\n",
    "\\begin{equation*}\n",
    "C_0 = \\textrm{initial solute concentration }(mg/L) \\\\\n",
    "\\end{equation*}\n",
    "\\begin{equation*}\n",
    "L = \\textrm{flow path length }(m) \\\\\n",
    "\\end{equation*}\n",
    "\\begin{equation*}\n",
    "v_x = \\textrm{average linear ground-water velocity }(m/day) \\\\\n",
    "\\end{equation*}\n",
    "\\begin{equation*}\n",
    "t = \\textrm{time since release of solute }(day)\\\\ \n",
    "\\end{equation*}\n",
    "\\begin{equation*}\n",
    "D_L = \\textrm{longitudinal coefficient of hydrodynamic dispersion }(m^2/s) \n",
    "\\end{equation*}\n",
    "\n"
   ]
  },
  {
   "cell_type": "code",
   "execution_count": 7,
   "metadata": {},
   "outputs": [
    {
     "name": "stdout",
     "output_type": "stream",
     "text": [
      "Ready for Dispersion!\n"
     ]
    }
   ],
   "source": [
    "## Now go ahead and click here and take a look at the top in the drop down menu. We are in the \"code\" setting now.\n",
    "## Every text written here is being interpretted as code - but the hashtags at the start of the line tell the computer\n",
    "## to ignore this and just interpret it as text. There's other ways to use hashtags more efficiently, but for now, just know that\n",
    "## the hashtags basically just turn the code into pure text.\n",
    "\n",
    "## The first thing we're going to do is import libararies. Libraries are basically collections of functions\n",
    "## and information that's needed to do the things we want for the specific task at hand. For example, the math library allows \n",
    "## us to use exponential and square root calculations, while matplotlib.pyplot allows us to make graphs easily.\n",
    "\n",
    "## Go ahead and run this cell by pressing (shift + enter) or (control + enter). [or whatever the equivalent is for you dirty mac and linus users)]\n",
    "\n",
    "## You might notice the In[] text at the top left of the cell. This basically just tells you how many cells the kernal has run\n",
    "## Every time you run a new cell, this number goes up. To restart the kernal, go towards the top of the page, click on the \"kernal\"\n",
    "## button, and click \"restart and clear output\". If the In[*] text has an asteric like that, it means it is currently running.\n",
    "## Sometimes, if your code is taking FOREVER, you may need to adjust the code because there's an infinite loop somewhere.\n",
    "## To exit an infinite loop, restart the kernal.\n",
    "\n",
    "import numpy as np\n",
    "from scipy import special as sp\n",
    "import math\n",
    "import matplotlib.pyplot as plt\n",
    "plt.style.use('seaborn-whitegrid')\n",
    "print(\"Ready for Dispersion!\")  ##This print function basically just shows you if everything ran correctly. If you see \"Ready for Dispersion\", you're on your way!"
   ]
  },
  {
   "cell_type": "markdown",
   "metadata": {},
   "source": [
    "# Example Problem\n",
    "\n",
    "There's a landfill that is leaking leachate with a  chloride concentration of 725 mg/L, and it enters an aquifer with the following properties:\n",
    "\n",
    "\n",
    "\\begin{equation*}\n",
    "\\textrm{Hydraulic conductivity (K)} = 3.0 \\times 10^{-5}(m/s) \\\\\n",
    "\\end{equation*}\n",
    "\\begin{equation*}\n",
    "\\textrm{Hydaulic Gradient (dh/dl)} = 0.0020 \\\\\n",
    "\\end{equation*}\n",
    "\\begin{equation*}\n",
    "\\textrm{Effective porosity }(n_e) = 0.23 \\\\\n",
    "\\end{equation*}\n",
    "\\begin{equation*}\n",
    "\\textrm{Effective Molectular Diffusion Constant }(D^*) = 1 \\times 10^{-9} (m^2/s) \n",
    "\\end{equation*}\n",
    "\n",
    "\n",
    "\n",
    "Compute the concentration of chlorine in 1 year at a distance 15 meters from the point where the leachate entered the ground."
   ]
  },
  {
   "cell_type": "code",
   "execution_count": 8,
   "metadata": {
    "scrolled": true
   },
   "outputs": [
    {
     "name": "stdout",
     "output_type": "stream",
     "text": [
      "1.0639267741942695\n",
      "12.179086599044652\n",
      "3.6484279874888683\n",
      "48.002933437865316\n"
     ]
    }
   ],
   "source": [
    "# Let's try to solve the problem above, by assigning some variables and doing a calculation - plug and chug style!\n",
    "# We will inevitably need all the variable values from the concentration equation, Co, L, v_x, t , and D_L.\n",
    "# We have Co, L, and t, given in the problem, but we need to calculate v_x and D_L.\n",
    "\n",
    "# This is the exact question from page 406 of your text book (Applied Hydrology, 4th Edition by C.W. Fetter), and please use it\n",
    "# as a resource to assist you with this process.\n",
    "\n",
    "# Lets calculate v_x:\n",
    "# This is how we assign a variable - we just use some letters followed by an equal sign, followed by some value.\n",
    "\n",
    "C0 = 725\n",
    "ne = 0.23\n",
    "K = 3.0E-5  #this E is just 10 to the whatever power, in this case, 3.0 times ten to the negative 5th power.\n",
    "dh_dl = 0.0020\n",
    "d_star = 1.0E-9\n",
    "L = 15\n",
    "\n",
    "#########################################################################################################################\n",
    "\n",
    "\n",
    "v_x = (K*dh_dl)/ne\n",
    "#print(v_x)  ## This prints the answer out that is assigned to v_x, The first line of text after this block of code is\n",
    "            ## the answer and should be about 2.6 x 10^-7 m/s\n",
    "\n",
    "# Let's calculate longitudinal hydrodynamic dispersion now, which is needed for the D_L:\n",
    "\n",
    "a_L = 0.83*((math.log(L,10))**(2.414))\n",
    "\n",
    "#print(a_L) ## This prints out the answer assigned to a_L, the second line of text under this block, and should be about 1.23\n",
    "\n",
    "D_L = a_L * v_x + d_star\n",
    "\n",
    "#print(D_L) ## Again, prints out answer in third line, should be about 3.2E-7 \n",
    "\n",
    "t = 1 *60 * 1440 * 365 ## converting time from one year to 3.15E7 seconds.\n",
    "\n",
    "##########################################################################################################################\n",
    "\n",
    "# So now we've got all the terms calcualted, and we just need to plug everything into the long equation with the complimentary \n",
    "# error functions. It's on page 404 in the textbook, and is equation 10.8.\n",
    "\n",
    "\n",
    "#Just to keep your sanity and mine, I split the expression up into 3 parts so its hopefully easier to follow along.\n",
    "\n",
    "term1 = (L - v_x*t)/(2*math.sqrt(D_L*t))\n",
    "term2 = (v_x*L)/(D_L)\n",
    "term3 = (L+v_x*t)/(2*math.sqrt(D_L*t))\n",
    "\n",
    "print (term1)\n",
    "print (term2) \n",
    "print (term3) ## this term is about 3.6, and since complimentary error functions of numbers greater than 3 are very small, we can ignore the last term. \n",
    " \n",
    "C = (C0/2) * (math.erfc(term1)) ## + math.exp(term2) * math.erfc(term3))  <-- we're ignoring this last term as they did in the book.\n",
    "              \n",
    "print(C) ##You should see we get an answer of about 48 mg/L. This is due to rounding errors from the calculations.\n",
    "\n",
    "\n",
    "\n",
    "\n"
   ]
  },
  {
   "cell_type": "markdown",
   "metadata": {},
   "source": [
    "# Question 1:\n",
    "\n",
    "A Saline Solution with a concentration of 1823 mg/L is introduced into a 2m-long sand column in which the pores are initially filled with distilled water. If the solution drains through the columnn at an average linear velocity of 1.43m/day and the dynamic dispersivity of the sand column is 15 cm, what would the concentration of the efflulent be 0.7 days after flow begins?\n",
    "Try to use the above code to calculate the answer to the question."
   ]
  },
  {
   "cell_type": "code",
   "execution_count": null,
   "metadata": {},
   "outputs": [],
   "source": []
  },
  {
   "cell_type": "markdown",
   "metadata": {},
   "source": [
    "# Functions:\n",
    "\n",
    "So far, we've basically just used python as a glorified calculator.... not really using it to its full potential.\n",
    "Now we're going to take the code that we used for the last question, and we're going to turn it into a **function**.\n",
    "\n",
    "Basically, a function is reusable code that is deisgned to perform a single, related action. Functions let us do TONS of things, but for this lesson, we're going to make a function that solves for the concentration of a contaminent at some distance after some time.\n",
    "\n",
    "For the purposes of this session, we're not going to go into too much detail regarding the specifics of how to create a function, we're just going to go over the main components and how to use it. You just need to know \n",
    "\n",
    "Let's consider a simple function - one that calculates the volume of a cylinder.\n"
   ]
  },
  {
   "cell_type": "code",
   "execution_count": 3,
   "metadata": {},
   "outputs": [
    {
     "name": "stdout",
     "output_type": "stream",
     "text": [
      "37.699079999999995\n"
     ]
    }
   ],
   "source": [
    "def cylinder_volume(height=3, radius=2):   # This is the function header - always end with a colon\n",
    "    pi = 3.14159                           # This line is the start of the function body, and just defines a variable - notice the indent\n",
    "    return height * pi * radius ** 2       # This line is the end of the function body, and is the return statement.\n",
    "print(cylinder_volume())"
   ]
  },
  {
   "cell_type": "markdown",
   "metadata": {},
   "source": [
    "Let's start with the function header, which is the first line of a function definition.\n",
    "\n",
    "\n",
    "The **function header** always starts with the def keyword, which indicates that this is a function definition.\n",
    "Then comes the function name (here, cylinder_volume), which follows the same naming conventions as variables. You can revisit the naming conventions below.\n",
    "Immediately after the name are parentheses that may include **arguments** separated by commas (here, height and radius). **Arguments, or parameters, are values that are passed in as inputs when the function is called, and are used in the function body.** If a function doesn't take arguments, these parentheses are left empty.\n",
    "The header always end with a colon :.\n",
    "\n",
    "The **body of a function is the code indented after the header line**. Here, it's the two lines that define pi and return the volume.\n",
    "Within this body, we can refer to the argument variables and define new variables, which can only be used within these indented lines.\n",
    "The body will often include a **return statement**, which is used to send back an output value from the function to the statement that called the function. A return statement consists of the return keyword followed by an expression that is evaluated to get the output value for the function. If there is no return statement, the function simply returns None.\n",
    "\n",
    "\n",
    "[Here](https://classroom.udacity.com/courses/ud1110/lessons/49912e64-4fe1-4f06-8679-d17d4ad33969/concepts/97c1d194-e640-4dda-b7c8-770db5a4cb0f) is a nice free resource for any basic programming/function questions you may have.\n",
    "\n",
    "\n"
   ]
  },
  {
   "cell_type": "markdown",
   "metadata": {},
   "source": [
    "# Solving Q1 with a function.\n",
    "\n",
    "Now, lets just try to solve question 1, but using a function that we define below. All you need to do is set the arguments.\n"
   ]
  },
  {
   "cell_type": "code",
   "execution_count": 6,
   "metadata": {},
   "outputs": [
    {
     "name": "stdout",
     "output_type": "stream",
     "text": [
      "1.0724741921636822\n",
      "12.1875\n",
      "3.652081720451658\n",
      "46.93319242369629\n"
     ]
    }
   ],
   "source": [
    "def Concen_cal(C0=725,L=15,t=3.15E7,DL=3.2E-7,vx = 2.6E-7,k=3.0E-5):\n",
    "\n",
    "    C0 = 725\n",
    "    ne = 0.23\n",
    "    k = 3.0E-5  \n",
    "    dh_dl = 0.0020\n",
    "    d_star = 1.0E-9\n",
    "    L = 15\n",
    "    \n",
    "    v_x = (k*dh_dl)/ne\n",
    "    a_L = 0.83*((math.log(L,10))**(2.414))\n",
    "    D_L = a_L * v_x + d_star\n",
    "    \n",
    "    \n",
    "    term1 = (L - vx*t)/(2*math.sqrt(DL*t))\n",
    "    term2 = (vx*L)/(DL)\n",
    "    term3 = (L+vx*t)/(2*math.sqrt(DL*t))\n",
    "    \n",
    "    print (term1)\n",
    "    print (term2)\n",
    "    print (term3)\n",
    "    \n",
    "    C = (C0/2) * math.erfc(term1) + math.exp(term2) * math.erfc(term3)\n",
    "    \n",
    "   \n",
    "    return C\n",
    "\n",
    "print(Concen_cal())\n"
   ]
  },
  {
   "cell_type": "markdown",
   "metadata": {},
   "source": []
  },
  {
   "cell_type": "markdown",
   "metadata": {},
   "source": [
    "# Question 2:\n",
    "\n",
    "Given the flow situation of problem 1, change the linear velocity such that the concentration at 0.7 days is within 0.5 mg/L of 24 mg/L. What is that linear velocity?\n",
    "\n",
    "Similarly, keep the linear velocity at the initial 1.43 m/day. What is the time needed to have the saline solution concentration at 300 mg/L 2 meters away?"
   ]
  },
  {
   "cell_type": "markdown",
   "metadata": {},
   "source": [
    "# Question 3:\n",
    "\n",
    "A landfill is leaking an effluent with a concentration of sodium of 1250 mg/L. It seeeps into an aquifer with a hydraulic conductivity of 9.8 m/day, a gradient of 0.0040, and an effective porosity of 0.15. A down-gradient monitoring well is located 25 m from the landfill. What would the sodium concentration be in this monitoring well 300 days after the leak begins?"
   ]
  },
  {
   "cell_type": "code",
   "execution_count": 9,
   "metadata": {},
   "outputs": [
    {
     "data": {
      "image/png": "[encoded data removed]",
      "text/plain": [
       "<Figure size 432x288 with 1 Axes>"
      ]
     },
     "metadata": {},
     "output_type": "display_data"
    }
   ],
   "source": [
    "\n",
    "#Analytical Solution for Solute Transport Problem\n",
    "\n",
    "def solute_pulse(): \n",
    "    Co = 725 # initial solute concentration in milligrams \n",
    "    Days = 365 # Time since start\n",
    "    D = 0.028 # Dispersion Coefficient\n",
    "    v = 0.022 # Average linear groundwater velocity\n",
    "    n = 50\n",
    "    sqrtPi = np.sqrt(np.pi)\n",
    "    Di = np.zeros(n) # Distance away from source in meters\n",
    "    conc = np.zeros(n)\n",
    "    \n",
    "    for i in range(n):\n",
    "        Di[i] = i\n",
    "    \n",
    "    plt.ion()\n",
    "    conc[0] = 0.0\n",
    "    \n",
    "    for t in range(1, Days):\n",
    "        for i in range(1, n):\n",
    "            a = v / (sqrtPi*np.sqrt(D*t)) * np.exp(-((Di[i] - v*t)**2) / (4.0*D*t))\n",
    "            b = (v**2)/(2*D) * np.exp((v*Di[i])/D) * sp.erfc((Di[i]+v*t) / np.sqrt(4.0*D*t))\n",
    "            conc[i]= (Co / 2) * (a - b)\n",
    "            \n",
    "            ###################\n",
    "            # a = math.erfc((L[i] - (v*t)) / (2* (math.sqrt(D*t))))\n",
    "            # b = math.exp((v*L[i])/(D)) * math.erfc((L[i] + (v*t)) / (2*(math.sqrt(D*t))))\n",
    "            # conc[i]= (Cnot/2) * (a+b)\n",
    "            ###################\n",
    "            \n",
    "        plt.clf()\n",
    "        plt.xlabel('Concentration [mg m$^{-2}$]', fontsize=20, labelpad=8)\n",
    "        plt.ylabel('Distance from Source [m]',fontsize=20, labelpad=8)\n",
    "        plt.xlim(0, 1)\n",
    "        plt.plot(conc, -Di)\n",
    "        plt.draw()\n",
    "    \n",
    "    plt.ioff()\n",
    "    plt.show\n",
    "\n",
    "def main():\n",
    "    solute_pulse()\n",
    "main()\n"
   ]
  },
  {
   "cell_type": "code",
   "execution_count": 10,
   "metadata": {},
   "outputs": [
    {
     "data": {
      "text/plain": [
       "0.12774875825775006"
      ]
     },
     "execution_count": 10,
     "metadata": {},
     "output_type": "execute_result"
    }
   ],
   "source": [
    "#The parameters\n",
    "Co = 725 # initial solute concentration in milligrams \n",
    "t = 365 # Time since start\n",
    "D = 0.0275 # Dispersion Coefficient\n",
    "v = 0.0224 # Average linear groundwater velocity\n",
    "Di = 15 # Distance away from source in meters     \n",
    "\n",
    "def part1(Co, t, D, v, Di):\n",
    "  return(math.erfc((Di - (v*t)) / (2* (math.sqrt(D*t)))))\n",
    "part1(Co = 725, t = 365, D = 0.0275, v = 0.0224, Di = 15) # passed by explicit name"
   ]
  },
  {
   "cell_type": "code",
   "execution_count": 11,
   "metadata": {},
   "outputs": [
    {
     "data": {
      "text/plain": [
       "0.04672888312009826"
      ]
     },
     "execution_count": 11,
     "metadata": {},
     "output_type": "execute_result"
    }
   ],
   "source": [
    "def part2(Co, t, D, v, Di):\n",
    "  return(math.exp((v*Di)/(D)) * math.erfc((Di + (v*t)) / (2*(math.sqrt(D*t)))))\n",
    "part2(Co = 725, t = 365, D = 0.0275, v = 0.0224, Di = 15)"
   ]
  },
  {
   "cell_type": "code",
   "execution_count": 12,
   "metadata": {},
   "outputs": [
    {
     "ename": "NameError",
     "evalue": "name 'part3' is not defined",
     "output_type": "error",
     "traceback": [
      "\u001b[1;31m---------------------------------------------------------------------------\u001b[0m",
      "\u001b[1;31mNameError\u001b[0m                                 Traceback (most recent call last)",
      "\u001b[1;32m<ipython-input-12-b2b189e42cc3>\u001b[0m in \u001b[0;36m<module>\u001b[1;34m\u001b[0m\n\u001b[0;32m      1\u001b[0m \u001b[1;32mdef\u001b[0m \u001b[0mpart1and2\u001b[0m\u001b[1;33m(\u001b[0m\u001b[0mCo\u001b[0m\u001b[1;33m,\u001b[0m \u001b[0mt\u001b[0m\u001b[1;33m,\u001b[0m \u001b[0mD\u001b[0m\u001b[1;33m,\u001b[0m \u001b[0mv\u001b[0m\u001b[1;33m,\u001b[0m \u001b[0mDi\u001b[0m\u001b[1;33m)\u001b[0m\u001b[1;33m:\u001b[0m\u001b[1;33m\u001b[0m\u001b[1;33m\u001b[0m\u001b[0m\n\u001b[0;32m      2\u001b[0m   \u001b[1;32mreturn\u001b[0m\u001b[1;33m(\u001b[0m\u001b[1;33m(\u001b[0m\u001b[0mCo\u001b[0m\u001b[1;33m/\u001b[0m\u001b[1;36m2\u001b[0m\u001b[1;33m)\u001b[0m\u001b[1;33m*\u001b[0m\u001b[1;33m(\u001b[0m\u001b[0mmath\u001b[0m\u001b[1;33m.\u001b[0m\u001b[0merfc\u001b[0m\u001b[1;33m(\u001b[0m\u001b[1;33m(\u001b[0m\u001b[0mDi\u001b[0m\u001b[1;33m-\u001b[0m\u001b[1;33m(\u001b[0m\u001b[0mv\u001b[0m\u001b[1;33m*\u001b[0m\u001b[0mt\u001b[0m\u001b[1;33m)\u001b[0m\u001b[1;33m)\u001b[0m\u001b[1;33m/\u001b[0m\u001b[1;33m(\u001b[0m\u001b[1;36m2\u001b[0m\u001b[1;33m*\u001b[0m\u001b[1;33m(\u001b[0m\u001b[0mmath\u001b[0m\u001b[1;33m.\u001b[0m\u001b[0msqrt\u001b[0m\u001b[1;33m(\u001b[0m\u001b[0mD\u001b[0m\u001b[1;33m*\u001b[0m\u001b[0mt\u001b[0m\u001b[1;33m)\u001b[0m\u001b[1;33m)\u001b[0m\u001b[1;33m)\u001b[0m\u001b[1;33m)\u001b[0m\u001b[1;33m)\u001b[0m\u001b[1;33m+\u001b[0m\u001b[0mmath\u001b[0m\u001b[1;33m.\u001b[0m\u001b[0mexp\u001b[0m\u001b[1;33m(\u001b[0m\u001b[1;33m(\u001b[0m\u001b[0mv\u001b[0m\u001b[1;33m*\u001b[0m\u001b[0mDi\u001b[0m\u001b[1;33m)\u001b[0m\u001b[1;33m/\u001b[0m\u001b[1;33m(\u001b[0m\u001b[0mD\u001b[0m\u001b[1;33m)\u001b[0m\u001b[1;33m)\u001b[0m\u001b[1;33m*\u001b[0m\u001b[0mmath\u001b[0m\u001b[1;33m.\u001b[0m\u001b[0merfc\u001b[0m\u001b[1;33m(\u001b[0m\u001b[1;33m(\u001b[0m\u001b[0mDi\u001b[0m \u001b[1;33m+\u001b[0m \u001b[1;33m(\u001b[0m\u001b[0mv\u001b[0m\u001b[1;33m*\u001b[0m\u001b[0mt\u001b[0m\u001b[1;33m)\u001b[0m\u001b[1;33m)\u001b[0m\u001b[1;33m/\u001b[0m\u001b[1;33m(\u001b[0m\u001b[1;36m2\u001b[0m\u001b[1;33m*\u001b[0m\u001b[1;33m(\u001b[0m\u001b[0mmath\u001b[0m\u001b[1;33m.\u001b[0m\u001b[0msqrt\u001b[0m\u001b[1;33m(\u001b[0m\u001b[0mD\u001b[0m\u001b[1;33m*\u001b[0m\u001b[0mt\u001b[0m\u001b[1;33m)\u001b[0m\u001b[1;33m)\u001b[0m\u001b[1;33m)\u001b[0m\u001b[1;33m)\u001b[0m\u001b[1;33m)\u001b[0m\u001b[1;33m\u001b[0m\u001b[1;33m\u001b[0m\u001b[0m\n\u001b[1;32m----> 3\u001b[1;33m \u001b[0mpart3\u001b[0m\u001b[1;33m(\u001b[0m\u001b[0mCo\u001b[0m \u001b[1;33m=\u001b[0m \u001b[1;36m725\u001b[0m\u001b[1;33m,\u001b[0m \u001b[0mt\u001b[0m \u001b[1;33m=\u001b[0m \u001b[1;36m365\u001b[0m\u001b[1;33m,\u001b[0m \u001b[0mD\u001b[0m \u001b[1;33m=\u001b[0m \u001b[1;36m0.0275\u001b[0m\u001b[1;33m,\u001b[0m \u001b[0mv\u001b[0m \u001b[1;33m=\u001b[0m \u001b[1;36m0.0224\u001b[0m\u001b[1;33m,\u001b[0m \u001b[0mDi\u001b[0m \u001b[1;33m=\u001b[0m \u001b[1;36m15\u001b[0m\u001b[1;33m)\u001b[0m \u001b[1;31m# passed by explicit name\u001b[0m\u001b[1;33m\u001b[0m\u001b[1;33m\u001b[0m\u001b[0m\n\u001b[0m",
      "\u001b[1;31mNameError\u001b[0m: name 'part3' is not defined"
     ]
    }
   ],
   "source": [
    "def part1and2(Co, t, D, v, Di):\n",
    "  return((Co/2)*(math.erfc((Di-(v*t))/(2*(math.sqrt(D*t)))))+math.exp((v*Di)/(D))*math.erfc((Di + (v*t))/(2*(math.sqrt(D*t)))))\n",
    "part3(Co = 725, t = 365, D = 0.0275, v = 0.0224, Di = 15) # passed by explicit name"
   ]
  },
  {
   "cell_type": "markdown",
   "metadata": {},
   "source": [
    "### You Try!\n",
    "A saline solution with a concentration of __1823 mg/L__, is introduced into a __2 m__ long sand column. The pores are initially filled with distilled water.\n",
    "\n",
    "The solution drains through the column at an average linear velocity of __1.43 m/d__ and the dynamic dispersivity is __0.25585 m<sup>2</sup> d<sup>-1</sup>__,\n",
    "\n",
    "What would the concentration of the effluent be __0.70 day__ after flow begins?"
   ]
  },
  {
   "cell_type": "code",
   "execution_count": null,
   "metadata": {},
   "outputs": [],
   "source": [
    "def sol_conc(Co, t, D, v, Di):\n",
    "  return((Co/2)*(math.erfc((Di-(v*t))/(2*(math.sqrt(D*t)))))+math.exp((v*Di)/(D))*math.erfc((Di + (v*t))/(2*(math.sqrt(D*t)))))\n",
    "part3(Co = , t = , D = , v = , Di = ) # Insert the values here"
   ]
  },
  {
   "cell_type": "code",
   "execution_count": null,
   "metadata": {},
   "outputs": [],
   "source": [
    "The concentration of the effluent would be what after 0.70 days?"
   ]
  },
  {
   "cell_type": "code",
   "execution_count": null,
   "metadata": {},
   "outputs": [],
   "source": []
  },
  {
   "cell_type": "code",
   "execution_count": null,
   "metadata": {},
   "outputs": [],
   "source": []
  },
  {
   "cell_type": "code",
   "execution_count": null,
   "metadata": {},
   "outputs": [],
   "source": [
    "\n"
   ]
  },
  {
   "cell_type": "code",
   "execution_count": null,
   "metadata": {},
   "outputs": [],
   "source": [
    "\n",
    "\n"
   ]
  },
  {
   "cell_type": "code",
   "execution_count": null,
   "metadata": {},
   "outputs": [],
   "source": []
  },
  {
   "cell_type": "code",
   "execution_count": null,
   "metadata": {},
   "outputs": [],
   "source": [
    "##Analytic Solution\n",
    "\n",
    "def solute_pulse():\n",
    "    tmax = 11\n",
    "    Seconds = 3150\n",
    "    n = 20\n",
    "    D = 0.00000032 #Dispersion Coefficient\n",
    "    v = 0.00000026 # Average linear groundwater velocity\n",
    "    Cnot = 0.725 #initial solute concentration\n",
    "    L = np.zeros(n)\n",
    "    conc = np.zeros(n)\n",
    "    sqrtPi = np.sqrt(np.pi)\n",
    "    for i in range(n):\n",
    "        L[i] = i\n",
    "    plt.ion()\n",
    "    conc[0] = 0.0\n",
    "    for t in range(1, Seconds):\n",
    "        for i in range(1, n):\n",
    "            a = sp.erfc((L[i] - (v * t)) / (2* (np.sqrt(D * t))))\n",
    "            b = np.exp((v * L[i]) / (D)) * sp.erfc((L[i] + (v * t)) / (2 * (np.sqrt(D * t))))\n",
    "            conc[i]= (Cnot/2) * (a + b)\n",
    "        plt.clf()\n",
    "        plt.xlabel('Concentration [g m$^{-2}$]', fontsize=20, labelpad=8)\n",
    "        plt.ylabel('Length [m]',fontsize=20, labelpad=8)\n",
    "        plt.xlim(0, 2)\n",
    "        plt.plot(conc, L, 'k-')\n",
    "        plt.draw()\n",
    "    plt.ioff()\n",
    "    plt.show\n",
    "    a = input()\n",
    "plt.savefig(\"analytical.eps\", transparent = True)\n",
    "def main():\n",
    "    solute_pulse()\n",
    "main()\n",
    "print(\"done\")"
   ]
  },
  {
   "cell_type": "code",
   "execution_count": null,
   "metadata": {},
   "outputs": [],
   "source": [
    "#Analytical Solution for Solute Transport Problem\n",
    "\n",
    "def solute_pulse(): \n",
    "    Co = 725 # initial solute concentration in milligrams \n",
    "    Days = 365 # Time since start\n",
    "    D = 0.028 # Dispersion Coefficient\n",
    "    v = 0.022 # Average linear groundwater velocity\n",
    "    n = 50\n",
    "    sqrtPi = np.sqrt(np.pi)\n",
    "    Di = np.zeros(n) # Distance away from source in meters\n",
    "    conc = np.zeros(n)\n",
    "    \n",
    "    for i in range(n):\n",
    "        Di[i] = i\n",
    "    \n",
    "    plt.ion()\n",
    "    conc[0] = 0.0\n",
    "    \n",
    "    for t in range(1, Days):\n",
    "        for i in range(1, n):\n",
    "            a = v / (sqrtPi*np.sqrt(D*t)) * np.exp(-((Di[i] - v*t)**2) / (4.0*D*t))\n",
    "            b = (v**2)/(2*D) * np.exp((v*Di[i])/D) * sp.erfc((Di[i]+v*t) / np.sqrt(4.0*D*t))\n",
    "            conc[i]= (Co / 2) * (a - b)\n",
    "            \n",
    "            ###################\n",
    "            # a = math.erfc((L[i] - (v*t)) / (2* (math.sqrt(D*t))))\n",
    "            # b = math.exp((v*L[i])/(D)) * math.erfc((L[i] + (v*t)) / (2*(math.sqrt(D*t))))\n",
    "            # conc[i]= (Cnot/2) * (a+b)\n",
    "            ###################\n",
    "            \n",
    "    plt.clf()\n",
    "    plt.xlabel('Concentration [mg m$^{-2}$]', fontsize=20, labelpad=8)\n",
    "    plt.ylabel('Distance from Source [m]',fontsize=20, labelpad=8)\n",
    "    plt.xlim(0, 1)\n",
    "    plt.plot(conc, -Di)\n",
    "    plt.draw()\n",
    "    \n",
    "    plt.ioff()\n",
    "    plt.show\n",
    "\n",
    "def main():\n",
    "    solute_pulse()\n",
    "main()"
   ]
  },
  {
   "cell_type": "code",
   "execution_count": null,
   "metadata": {},
   "outputs": [],
   "source": [
    "\n"
   ]
  },
  {
   "cell_type": "code",
   "execution_count": null,
   "metadata": {},
   "outputs": [],
   "source": []
  },
  {
   "cell_type": "code",
   "execution_count": null,
   "metadata": {},
   "outputs": [],
   "source": []
  }
 ],
 "metadata": {
  "kernelspec": {
   "display_name": "Python 3",
   "language": "python",
   "name": "python3"
  },
  "language_info": {
   "codemirror_mode": {
    "name": "ipython",
    "version": 3
   },
   "file_extension": ".py",
   "mimetype": "text/x-python",
   "name": "python",
   "nbconvert_exporter": "python",
   "pygments_lexer": "ipython3",
   "version": "3.7.6"
  }
 },
 "nbformat": 4,
 "nbformat_minor": 4
}
